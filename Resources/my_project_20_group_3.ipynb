{
  "nbformat": 4,
  "nbformat_minor": 0,
  "metadata": {
    "colab": {
      "name": "my_project_20_group_3.ipynb",
      "provenance": [],
      "collapsed_sections": []
    },
    "kernelspec": {
      "name": "python3",
      "display_name": "Python 3"
    },
    "language_info": {
      "name": "python"
    }
  },
  "cells": [
    {
      "cell_type": "code",
      "execution_count": 38,
      "metadata": {
        "colab": {
          "base_uri": "https://localhost:8080/"
        },
        "id": "dduoc5qsSnhJ",
        "outputId": "9275e4d8-9c95-44c3-cf28-f70aa7398145"
      },
      "outputs": [
        {
          "output_type": "stream",
          "name": "stdout",
          "text": [
            "Hit:1 https://cloud.r-project.org/bin/linux/ubuntu bionic-cran40/ InRelease\n",
            "Ign:2 https://developer.download.nvidia.com/compute/cuda/repos/ubuntu1804/x86_64  InRelease\n",
            "Get:3 http://security.ubuntu.com/ubuntu bionic-security InRelease [88.7 kB]\n",
            "Hit:4 http://archive.ubuntu.com/ubuntu bionic InRelease\n",
            "Hit:5 http://ppa.launchpad.net/c2d4u.team/c2d4u4.0+/ubuntu bionic InRelease\n",
            "Ign:6 https://developer.download.nvidia.com/compute/machine-learning/repos/ubuntu1804/x86_64  InRelease\n",
            "Hit:7 https://developer.download.nvidia.com/compute/cuda/repos/ubuntu1804/x86_64  Release\n",
            "Hit:8 https://developer.download.nvidia.com/compute/machine-learning/repos/ubuntu1804/x86_64  Release\n",
            "Get:9 http://archive.ubuntu.com/ubuntu bionic-updates InRelease [88.7 kB]\n",
            "Hit:10 http://ppa.launchpad.net/cran/libgit2/ubuntu bionic InRelease\n",
            "Hit:11 http://ppa.launchpad.net/deadsnakes/ppa/ubuntu bionic InRelease\n",
            "Get:12 http://archive.ubuntu.com/ubuntu bionic-backports InRelease [74.6 kB]\n",
            "Hit:13 http://ppa.launchpad.net/graphics-drivers/ppa/ubuntu bionic InRelease\n",
            "Fetched 252 kB in 3s (98.9 kB/s)\n",
            "Reading package lists... Done\n"
          ]
        }
      ],
      "source": [
        "import os\n",
        "# Find the latest version of spark 3.0  from http://www-us.apache.org/dist/spark/ and enter as the spark version\n",
        "# For example:\n",
        "# spark_version = 'spark-3.0.2'\n",
        "spark_version = 'spark-3.2.1'\n",
        "os.environ['SPARK_VERSION']=spark_version\n",
        "\n",
        "# Install Spark and Java\n",
        "!apt-get update\n",
        "!apt-get install openjdk-11-jdk-headless -qq > /dev/null\n",
        "# !wget -q http://www-us.apache.org/dist/spark/$SPARK_VERSION/$SPARK_VERSION-bin-hadoop2.7.tgz\n",
        "!wget -q https://downloads.apache.org/spark/$SPARK_VERSION/$SPARK_VERSION-bin-hadoop3.2.tgz\n",
        "!tar xf $SPARK_VERSION-bin-hadoop3.2.tgz\n",
        "!pip install -q findspark\n",
        "\n",
        "# Set Environment Variables\n",
        "os.environ[\"JAVA_HOME\"] = \"/usr/lib/jvm/java-11-openjdk-amd64\"\n",
        "os.environ[\"SPARK_HOME\"] = f\"/content/{spark_version}-bin-hadoop3.2\"\n",
        "\n",
        "# Start a SparkSession\n",
        "import findspark\n",
        "findspark.init()"
      ]
    },
    {
      "cell_type": "code",
      "source": [
        "# Download the Postgres driver that will allow Spark to interact with Postgres.\n",
        "!wget https://jdbc.postgresql.org/download/postgresql-42.2.16.jar"
      ],
      "metadata": {
        "colab": {
          "base_uri": "https://localhost:8080/"
        },
        "id": "yJvFzO3NTDND",
        "outputId": "6f4dc9cf-88da-4b22-e024-a754391438c7"
      },
      "execution_count": 39,
      "outputs": [
        {
          "output_type": "stream",
          "name": "stdout",
          "text": [
            "--2022-04-02 16:18:24--  https://jdbc.postgresql.org/download/postgresql-42.2.16.jar\n",
            "Resolving jdbc.postgresql.org (jdbc.postgresql.org)... 72.32.157.228, 2001:4800:3e1:1::228\n",
            "Connecting to jdbc.postgresql.org (jdbc.postgresql.org)|72.32.157.228|:443... connected.\n",
            "HTTP request sent, awaiting response... 200 OK\n",
            "Length: 1002883 (979K) [application/java-archive]\n",
            "Saving to: ‘postgresql-42.2.16.jar.1’\n",
            "\n",
            "postgresql-42.2.16. 100%[===================>] 979.38K  --.-KB/s    in 0.1s    \n",
            "\n",
            "2022-04-02 16:18:24 (6.46 MB/s) - ‘postgresql-42.2.16.jar.1’ saved [1002883/1002883]\n",
            "\n"
          ]
        }
      ]
    },
    {
      "cell_type": "code",
      "source": [
        "from pyspark.sql import SparkSession\n",
        "spark = SparkSession.builder.appName(\"my_project_20_group_3\").config(\"spark.driver.extraClassPath\",\"/content/postgresql-42.2.16.jar\").getOrCreate()"
      ],
      "metadata": {
        "id": "vXF7Yx7Mdrn9"
      },
      "execution_count": 40,
      "outputs": []
    },
    {
      "cell_type": "code",
      "source": [
        "from pyspark import SparkFiles\n",
        "url = \"https://rural-surge-b1.s3.amazonaws.com/Fixed_Broadband_Deployment_Data__December_2020.csv\"\n",
        "spark.sparkContext.addFile(url)\n",
        "df = spark.read.option(\"delimiter\", \",\").option(\"header\",True).csv(SparkFiles.get(\"Fixed_Broadband_Deployment_Data__December_2020.csv\"))\n",
        "df.show()"
      ],
      "metadata": {
        "colab": {
          "base_uri": "https://localhost:8080/"
        },
        "id": "UmLn6G6rvPJa",
        "outputId": "5474e6b5-aab8-45c4-dccc-5336517351f8"
      },
      "execution_count": 41,
      "outputs": [
        {
          "output_type": "stream",
          "name": "stdout",
          "text": [
            "+---------------------+-----------+----------+--------------------+--------------------+--------------------+----------------------+---------------------+-----+----------------------+---------------+--------+--------------------------------------+------------------------------------+--------+\n",
            "|Logical Record Number|Provider ID|       FRN|       Provider Name|            DBA Name|Holding Company Name|Holding Company Number|Holding Company Final|State|Census Block FIPS Code|Technology Code|Consumer|Max Advertised Downstream Speed (mbps)|Max Advertised Upstream Speed (mbps)|Business|\n",
            "+---------------------+-----------+----------+--------------------+--------------------+--------------------+----------------------+---------------------+-----+----------------------+---------------+--------+--------------------------------------+------------------------------------+--------+\n",
            "|              2502903|      69801|0006121354|Wheatland Electri...|Wheatland Broadba...|Wheatland Electri...|                190407| Wheatland Electri...|   KS|       202039576003141|             70|       1|                                    25|                                   5|       1|\n",
            "|              2502904|      69801|0006121354|Wheatland Electri...|Wheatland Broadba...|Wheatland Electri...|                190407| Wheatland Electri...|   KS|       202039576003171|             70|       1|                                    25|                                   5|       1|\n",
            "|              2502905|      69801|0006121354|Wheatland Electri...|Wheatland Broadba...|Wheatland Electri...|                190407| Wheatland Electri...|   KS|       202039576002127|             70|       1|                                    25|                                   5|       1|\n",
            "|              2502906|      69801|0006121354|Wheatland Electri...|Wheatland Broadba...|Wheatland Electri...|                190407| Wheatland Electri...|   KS|       202039576002131|             70|       1|                                    25|                                   5|       1|\n",
            "|              2502907|      69801|0006121354|Wheatland Electri...|Wheatland Broadba...|Wheatland Electri...|                190407| Wheatland Electri...|   KS|       202039576001443|             70|       1|                                    25|                                   5|       1|\n",
            "|              2502908|      69801|0006121354|Wheatland Electri...|Wheatland Broadba...|Wheatland Electri...|                190407| Wheatland Electri...|   KS|       202039576001518|             70|       1|                                    25|                                   5|       1|\n",
            "|              2502909|      69801|0006121354|Wheatland Electri...|Wheatland Broadba...|Wheatland Electri...|                190407| Wheatland Electri...|   KS|       202039576001092|             70|       1|                                    25|                                   5|       1|\n",
            "|              2502910|      69801|0006121354|Wheatland Electri...|Wheatland Broadba...|Wheatland Electri...|                190407| Wheatland Electri...|   KS|       202039576001121|             70|       1|                                    25|                                   5|       1|\n",
            "|              2502911|      69801|0006121354|Wheatland Electri...|Wheatland Broadba...|Wheatland Electri...|                190407| Wheatland Electri...|   KS|       202039576001363|             70|       1|                                    25|                                   5|       1|\n",
            "|              2502912|      69801|0006121354|Wheatland Electri...|Wheatland Broadba...|Wheatland Electri...|                190407| Wheatland Electri...|   KS|       202039576003105|             70|       1|                                    25|                                   5|       1|\n",
            "|              2502913|      69801|0006121354|Wheatland Electri...|Wheatland Broadba...|Wheatland Electri...|                190407| Wheatland Electri...|   KS|       202039576001099|             70|       1|                                    25|                                   5|       1|\n",
            "|              2502914|      69801|0006121354|Wheatland Electri...|Wheatland Broadba...|Wheatland Electri...|                190407| Wheatland Electri...|   KS|       202039576001116|             70|       1|                                    25|                                   5|       1|\n",
            "|              2502915|      69801|0006121354|Wheatland Electri...|Wheatland Broadba...|Wheatland Electri...|                190407| Wheatland Electri...|   KS|       202039576001000|             70|       1|                                    25|                                   5|       1|\n",
            "|              2502916|      69801|0006121354|Wheatland Electri...|Wheatland Broadba...|Wheatland Electri...|                190407| Wheatland Electri...|   KS|       202039576001237|             70|       1|                                    25|                                   5|       1|\n",
            "|              2502917|      69801|0006121354|Wheatland Electri...|Wheatland Broadba...|Wheatland Electri...|                190407| Wheatland Electri...|   KS|       202039576003039|             70|       1|                                    25|                                   5|       1|\n",
            "|              2502918|      69801|0006121354|Wheatland Electri...|Wheatland Broadba...|Wheatland Electri...|                190407| Wheatland Electri...|   KS|       202039576002119|             70|       1|                                    25|                                   5|       1|\n",
            "|              2502919|      69801|0006121354|Wheatland Electri...|Wheatland Broadba...|Wheatland Electri...|                190407| Wheatland Electri...|   KS|       202039576001464|             70|       1|                                    25|                                   5|       1|\n",
            "|              2502920|      69801|0006121354|Wheatland Electri...|Wheatland Broadba...|Wheatland Electri...|                190407| Wheatland Electri...|   KS|       202039576001430|             70|       1|                                    25|                                   5|       1|\n",
            "|              2502921|      69801|0006121354|Wheatland Electri...|Wheatland Broadba...|Wheatland Electri...|                190407| Wheatland Electri...|   KS|       202039576003029|             70|       1|                                    25|                                   5|       1|\n",
            "|              2502922|      69801|0006121354|Wheatland Electri...|Wheatland Broadba...|Wheatland Electri...|                190407| Wheatland Electri...|   KS|       202039576001164|             70|       1|                                    25|                                   5|       1|\n",
            "+---------------------+-----------+----------+--------------------+--------------------+--------------------+----------------------+---------------------+-----+----------------------+---------------+--------+--------------------------------------+------------------------------------+--------+\n",
            "only showing top 20 rows\n",
            "\n"
          ]
        }
      ]
    },
    {
      "cell_type": "code",
      "source": [
        "from pyspark.sql import SparkSession\n",
        "\n",
        "# the Spark session should be instantiated as follows\n",
        "spark = SparkSession \\\n",
        "    .builder \\\n",
        "    .appName(\"Python Spark SQL\") \\\n",
        "    .config(\"spark.jars\", \"postgresql-42.2.14.jar\") \\\n",
        "    .getOrCreate()"
      ],
      "metadata": {
        "id": "80Fw9HrM6yvA"
      },
      "execution_count": 81,
      "outputs": []
    },
    {
      "cell_type": "code",
      "source": [
        "jdbcDF = spark.read.format(\"jdbc\"). \\\n",
        "options(\n",
        "         url='jdbc:postgresql://ruralsurge.cu3ibjje45e1.us-east-1.rds.amazonaws.com:5432/rural_surge_db', #jdbc:postgresql://<host>:<port>/<database>\n",
        "         dbtable='area_table',\n",
        "         user='root',\n",
        "         password='########',\n",
        "         driver='org.postgresql.Driver').\\\n",
        "load()"
      ],
      "metadata": {
        "id": "GPXdVTCG7101"
      },
      "execution_count": 82,
      "outputs": []
    },
    {
      "cell_type": "code",
      "source": [
        "jdbcDF.printSchema()"
      ],
      "metadata": {
        "colab": {
          "base_uri": "https://localhost:8080/"
        },
        "id": "yei5bArV_WcW",
        "outputId": "9f50738b-0b51-4027-9d06-950f2976f460"
      },
      "execution_count": 83,
      "outputs": [
        {
          "output_type": "stream",
          "name": "stdout",
          "text": [
            "root\n",
            " |-- type: string (nullable = true)\n",
            " |-- id: string (nullable = true)\n",
            " |-- tech: string (nullable = true)\n",
            " |-- urban_rural: string (nullable = true)\n",
            " |-- tribal_non: string (nullable = true)\n",
            " |-- speed: double (nullable = true)\n",
            " |-- has_0: integer (nullable = true)\n",
            " |-- has_1: integer (nullable = true)\n",
            " |-- has_2: integer (nullable = true)\n",
            " |-- has_3more: integer (nullable = true)\n",
            " |-- tech_options: integer (nullable = true)\n",
            "\n"
          ]
        }
      ]
    },
    {
      "cell_type": "code",
      "source": [
        "area_df = spark.read.jdbc(url = \"jdbc:postgresql://ruralsurge.cu3ibjje45e1.us-east-1.rds.amazonaws.com:5432/rural_surge_db\", \n",
        "                     table = \"(SELECT * FROM area_table) AS my_table\",\n",
        "                     properties={\"user\": \"root\", \"password\": \"Su4g3t0End!\", \"driver\":  \"org.postgresql.Driver\"})#.createTempView(\"tbl\")"
      ],
      "metadata": {
        "id": "rQPECZgM_nb-"
      },
      "execution_count": 84,
      "outputs": []
    },
    {
      "cell_type": "code",
      "source": [
        "spark.sql('select * from tbl').show() #or use .collect() to get Rows"
      ],
      "metadata": {
        "colab": {
          "base_uri": "https://localhost:8080/"
        },
        "id": "NL6sveSaA5Nc",
        "outputId": "17ad34f9-40e8-48ad-c08d-094b3df12c83"
      },
      "execution_count": 85,
      "outputs": [
        {
          "output_type": "stream",
          "name": "stdout",
          "text": [
            "+-----+---+------+-----------+----------+-----+-----+-----+------+---------+\n",
            "| type| id|  tech|urban_rural|tribal_non|speed|has_0|has_1| has_2|has_3more|\n",
            "+-----+---+------+-----------+----------+-----+-----+-----+------+---------+\n",
            "|state| 20|acfosw|          R|         N|  0.2|    0|    4|     9|   749729|\n",
            "|state| 20|acfosw|          R|         T|  0.2|    0|    0|     0|     5571|\n",
            "|state| 20|acfosw|          U|         N|  0.2|    0|    1|     0|  2158410|\n",
            "|state| 20| acfos|          R|         N|  0.2|    0|   25|     4|   749713|\n",
            "|state| 20| acfos|          R|         T|  0.2|    0|    0|     0|     5571|\n",
            "|state| 20| acfos|          U|         N|  0.2|    0|    8|     2|  2158401|\n",
            "|state| 20| acfow|          R|         N|  0.2| 3219|89226|135256|   522041|\n",
            "|state| 20| acfow|          R|         T|  0.2|   10|  118|   235|     5208|\n",
            "|state| 20| acfow|          U|         N|  0.2| 2404|13802|108907|  2033298|\n",
            "|state| 20| acfsw|          R|         N|  0.2|    0|    4|     9|   749729|\n",
            "|state| 20| acfsw|          R|         T|  0.2|    0|    0|     0|     5571|\n",
            "|state| 20| acfsw|          U|         N|  0.2|    0|    1|     0|  2158410|\n",
            "|state| 20| acosw|          R|         N|  0.2|    0|    6|     8|   749728|\n",
            "|state| 20| acosw|          R|         T|  0.2|    0|    0|     0|     5571|\n",
            "|state| 20| acosw|          U|         N|  0.2|    0|    1|     1|  2158409|\n",
            "|state| 20| afosw|          R|         N|  0.2|    0|    5|     8|   749729|\n",
            "|state| 20| afosw|          R|         T|  0.2|    0|    0|     0|     5571|\n",
            "|state| 20| afosw|          U|         N|  0.2|    0|    1|     3|  2158407|\n",
            "|state| 20| cfosw|          R|         N|  0.2|    0|    4|     9|   749729|\n",
            "|state| 20| cfosw|          R|         T|  0.2|    0|    0|     0|     5571|\n",
            "+-----+---+------+-----------+----------+-----+-----+-----+------+---------+\n",
            "only showing top 20 rows\n",
            "\n"
          ]
        }
      ]
    },
    {
      "cell_type": "code",
      "source": [
        "import pyspark.sql.functions as F \n",
        "length_df = area_df.withColumn(\"tech_options\", F.length(\"tech\"))\n",
        "length_df.show(truncate=False)"
      ],
      "metadata": {
        "colab": {
          "base_uri": "https://localhost:8080/"
        },
        "id": "S72UWF_oYoTQ",
        "outputId": "2f8546c3-e681-418a-c86f-732471e7e213"
      },
      "execution_count": 86,
      "outputs": [
        {
          "output_type": "stream",
          "name": "stdout",
          "text": [
            "+-----+---+------+-----------+----------+-----+-----+-----+------+---------+------------+\n",
            "|type |id |tech  |urban_rural|tribal_non|speed|has_0|has_1|has_2 |has_3more|tech_options|\n",
            "+-----+---+------+-----------+----------+-----+-----+-----+------+---------+------------+\n",
            "|state|20 |acfosw|R          |N         |0.2  |0    |4    |9     |749729   |6           |\n",
            "|state|20 |acfosw|R          |T         |0.2  |0    |0    |0     |5571     |6           |\n",
            "|state|20 |acfosw|U          |N         |0.2  |0    |1    |0     |2158410  |6           |\n",
            "|state|20 |acfos |R          |N         |0.2  |0    |25   |4     |749713   |5           |\n",
            "|state|20 |acfos |R          |T         |0.2  |0    |0    |0     |5571     |5           |\n",
            "|state|20 |acfos |U          |N         |0.2  |0    |8    |2     |2158401  |5           |\n",
            "|state|20 |acfow |R          |N         |0.2  |3219 |89226|135256|522041   |5           |\n",
            "|state|20 |acfow |R          |T         |0.2  |10   |118  |235   |5208     |5           |\n",
            "|state|20 |acfow |U          |N         |0.2  |2404 |13802|108907|2033298  |5           |\n",
            "|state|20 |acfsw |R          |N         |0.2  |0    |4    |9     |749729   |5           |\n",
            "|state|20 |acfsw |R          |T         |0.2  |0    |0    |0     |5571     |5           |\n",
            "|state|20 |acfsw |U          |N         |0.2  |0    |1    |0     |2158410  |5           |\n",
            "|state|20 |acosw |R          |N         |0.2  |0    |6    |8     |749728   |5           |\n",
            "|state|20 |acosw |R          |T         |0.2  |0    |0    |0     |5571     |5           |\n",
            "|state|20 |acosw |U          |N         |0.2  |0    |1    |1     |2158409  |5           |\n",
            "|state|20 |afosw |R          |N         |0.2  |0    |5    |8     |749729   |5           |\n",
            "|state|20 |afosw |R          |T         |0.2  |0    |0    |0     |5571     |5           |\n",
            "|state|20 |afosw |U          |N         |0.2  |0    |1    |3     |2158407  |5           |\n",
            "|state|20 |cfosw |R          |N         |0.2  |0    |4    |9     |749729   |5           |\n",
            "|state|20 |cfosw |R          |T         |0.2  |0    |0    |0     |5571     |5           |\n",
            "+-----+---+------+-----------+----------+-----+-----+-----+------+---------+------------+\n",
            "only showing top 20 rows\n",
            "\n"
          ]
        }
      ]
    },
    {
      "cell_type": "code",
      "source": [
        "# Configure settings for RDS\n",
        "mode = \"append\"\n",
        "jdbc_url=\"jdbc:postgresql://ruralsurge.cu3ibjje45e1.us-east-1.rds.amazonaws.com:5432/rural_surge_db\"\n",
        "config = {\"user\":\"root\", \n",
        "          \"password\": \"#######\", \n",
        "          \"driver\":\"org.postgresql.Driver\"}"
      ],
      "metadata": {
        "id": "ckMDRySiZdwM"
      },
      "execution_count": 87,
      "outputs": []
    },
    {
      "cell_type": "code",
      "source": [
        "# Write review_id_df to table in RDS\n",
        "length_df.write.jdbc(url=jdbc_url, table='area_mod', mode=mode, properties=config)"
      ],
      "metadata": {
        "id": "B1IMvBw6aHc_"
      },
      "execution_count": 89,
      "outputs": []
    }
  ]
}